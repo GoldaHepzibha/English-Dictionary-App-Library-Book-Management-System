{
 "cells": [
  {
   "cell_type": "code",
   "execution_count": 4,
   "id": "f215daa9",
   "metadata": {},
   "outputs": [
    {
     "name": "stdout",
     "output_type": "stream",
     "text": [
      "Welcome to the Dictionary App\n",
      "Please select your choice\n",
      "1. Add a word\n",
      "2. Find the meaning\n",
      "3. Update the word\n",
      "4. Exit\n",
      "Enter the Choice:2\n",
      "Enter the word to find: orange\n",
      "Sorry the word is not found\n",
      "Enter the Choice:4\n",
      "Thank you for choosing Dictionary app\n"
     ]
    }
   ],
   "source": [
    "import json\n",
    "\n",
    "print('Welcome to the Dictionary App')\n",
    "print('Please select your choice')\n",
    "print('1. Add a word')\n",
    "print('2. Find the meaning')\n",
    "print('3. Update the word')\n",
    "print('4. Exit')\n",
    "\n",
    "\n",
    "f = open('words.txt','w')\n",
    "coll_words = {}\n",
    "json.dump(coll_words,f)\n",
    "f.close()\n",
    "\n",
    "while True:\n",
    "    n = int(input('Enter the Choice:'))\n",
    "    if n == 1:\n",
    "        import json\n",
    "        f = open('words.txt','w')\n",
    "        word = input('Enter a word : ')\n",
    "        meaning = input('Enter its meaning : ')\n",
    "        coll_words[word] = meaning\n",
    "        json.dump(coll_words,f)\n",
    "        f.close()\n",
    "\n",
    "    elif n == 2:\n",
    "        import json\n",
    "        f = open('words.txt','r+')\n",
    "        dic = json.load(f)\n",
    "        find = input('Enter the word to find: ')\n",
    "        if find in coll_words:\n",
    "            print('The meaning is',coll_words.get(find))\n",
    "        else:\n",
    "            print('Sorry the word is not found')\n",
    "        json.dump(coll_words,f)\n",
    "        f.close()\n",
    "    elif n == 3:\n",
    "        import json\n",
    "        f = open('words.txt','w')\n",
    "        word1 = input('Enter the word:')\n",
    "        update_meaning = input('Enter the updated meaning: ')\n",
    "        coll_words[word1] = update_meaning\n",
    "        json.dump(coll_words,f)\n",
    "        f.close()\n",
    "    elif n == 4:\n",
    "        print('Thank you for choosing Dictionary app')\n",
    "        break\n",
    "    else:\n",
    "        print('Please enter the mentioned choice')\n",
    "        print('1. Add a word')\n",
    "        print('2. Find the meaning')\n",
    "        print('3. Update the word')\n",
    "        print('4. Exit')\n",
    " "
   ]
  },
  {
   "cell_type": "code",
   "execution_count": null,
   "id": "14c28bf2",
   "metadata": {},
   "outputs": [],
   "source": []
  }
 ],
 "metadata": {
  "kernelspec": {
   "display_name": "Python 3 (ipykernel)",
   "language": "python",
   "name": "python3"
  },
  "language_info": {
   "codemirror_mode": {
    "name": "ipython",
    "version": 3
   },
   "file_extension": ".py",
   "mimetype": "text/x-python",
   "name": "python",
   "nbconvert_exporter": "python",
   "pygments_lexer": "ipython3",
   "version": "3.9.13"
  }
 },
 "nbformat": 4,
 "nbformat_minor": 5
}
